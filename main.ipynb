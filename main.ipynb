{
 "cells": [
  {
   "cell_type": "markdown",
   "metadata": {},
   "source": [
    "ML \n",
    "Think of ML like cooking different dishes - while the basic principles of preparing ingredients and using heat apply to most cooking, the specific approach varies based on what you're making. "
   ]
  },
  {
   "cell_type": "markdown",
   "metadata": {},
   "source": [
    "Some questions regarding \"cooking\" you might have \n",
    "\n",
    "- is this dish spicy or mild? (Classification)\n",
    "- How many cups of water does this recipe need exactly? (Predcting a needs/usecase)\n",
    "- Organise ingradients by similarity without recipe instructions (Clustering)\n",
    "- Noticing an anomaly in your kitchen (that doesn't belong) (Anomaly Detection)\n",
    "- Like learning to cook by taste-testing and adjsting as you go along. (Learn Optimal Actions trhough trial and error)"
   ]
  },
  {
   "cell_type": "code",
   "execution_count": null,
   "metadata": {},
   "outputs": [],
   "source": []
  },
  {
   "cell_type": "code",
   "execution_count": null,
   "metadata": {},
   "outputs": [],
   "source": [
    "import pandas as pd\n",
    "import matplotlib as plt\n",
    "import seaborn as sns\n",
    "import numpy as np\n"
   ]
  },
  {
   "cell_type": "code",
   "execution_count": null,
   "metadata": {},
   "outputs": [],
   "source": []
  }
 ],
 "metadata": {
  "kernelspec": {
   "display_name": "base",
   "language": "python",
   "name": "python3"
  },
  "language_info": {
   "name": "python",
   "version": "3.12.9"
  }
 },
 "nbformat": 4,
 "nbformat_minor": 2
}
